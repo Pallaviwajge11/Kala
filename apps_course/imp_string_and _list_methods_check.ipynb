{
 "cells": [
  {
   "cell_type": "code",
   "execution_count": 4,
   "metadata": {},
   "outputs": [
    {
     "data": {
      "text/plain": [
       "'How are you?'"
      ]
     },
     "execution_count": 4,
     "metadata": {},
     "output_type": "execute_result"
    }
   ],
   "source": [
    "def para(line):\n",
    "    interrogatives= (\"how\", \"what\", \"why\")\n",
    "    cap = line.capitalize()\n",
    "    if line.startswith(interrogatives):\n",
    "        return \"{}?\".format(cap)\n",
    "    else: \n",
    "        return \"{}.\".format(cap)\n",
    "para(\"how are you\")\n"
   ]
  },
  {
   "cell_type": "code",
   "execution_count": 34,
   "metadata": {
    "scrolled": true
   },
   "outputs": [
    {
     "name": "stdout",
     "output_type": "stream",
     "text": [
      "Enter sthg : namaskaram\n",
      "Enter sthg : how are you\n",
      "Enter sthg : \\end\n",
      "Namaskaram. How are you?\n"
     ]
    }
   ],
   "source": [
    "def para(line):\n",
    "    interrogatives= (\"how\", \"what\", \"why\", \"which\", \"did\", \"whom\", \"where\")\n",
    "    cap = line.capitalize()\n",
    "    if line.startswith(interrogatives):\n",
    "        return \"{}?\".format(cap)\n",
    "    else: \n",
    "        return \"{}.\".format(cap)\n",
    "\n",
    "def main():\n",
    "    results = []\n",
    "    while True:\n",
    "        user_input= input(\"Enter sthg : \")\n",
    "        if user_input == \"\\end\":\n",
    "            break\n",
    "        else:\n",
    "            results.append(para(user_input))\n",
    "    print(\" \".join(results))\n",
    "        \n",
    "if __name__ == \"__main__\" : main()"
   ]
  },
  {
   "cell_type": "code",
   "execution_count": 35,
   "metadata": {},
   "outputs": [
    {
     "name": "stdout",
     "output_type": "stream",
     "text": [
      "[22.1, 23.4, 34.0, 23.0]\n"
     ]
    }
   ],
   "source": [
    "temps = [ 221, 234, 340, -9999, 230 ] \n",
    "new_temps = [temp/10 for temp in temps if temp != -9999]\n",
    "print(new_temps)"
   ]
  },
  {
   "cell_type": "code",
   "execution_count": 3,
   "metadata": {},
   "outputs": [
    {
     "name": "stdout",
     "output_type": "stream",
     "text": [
      "[22.1, 23.4, 34.0, 23.0]\n"
     ]
    }
   ],
   "source": [
    "temps = [ 221, 234, 340, -9999, 230 ]\n",
    "new_temps = [ ]\n",
    "for temp in temps:\n",
    "    if temp != -9999:\n",
    "        new_temps.append(temp/10)\n",
    "print(new_temps)"
   ]
  }
 ],
 "metadata": {
  "kernelspec": {
   "display_name": "Python 3",
   "language": "python",
   "name": "python3"
  },
  "language_info": {
   "codemirror_mode": {
    "name": "ipython",
    "version": 3
   },
   "file_extension": ".py",
   "mimetype": "text/x-python",
   "name": "python",
   "nbconvert_exporter": "python",
   "pygments_lexer": "ipython3",
   "version": "3.8.5"
  }
 },
 "nbformat": 4,
 "nbformat_minor": 4
}
