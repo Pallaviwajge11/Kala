{
 "cells": [
  {
   "cell_type": "code",
   "execution_count": 20,
   "metadata": {},
   "outputs": [
    {
     "name": "stdout",
     "output_type": "stream",
     "text": [
      "2.0 12.0\n"
     ]
    }
   ],
   "source": [
    "def mean(l):\n",
    "    mn = sum(l)/ len(l)\n",
    "    return mn\n",
    "\n",
    "p = mean([ 1, 2, 3])\n",
    "my = p + 10\n",
    "print(p, my)\n",
    "    "
   ]
  },
  {
   "cell_type": "code",
   "execution_count": 26,
   "metadata": {},
   "outputs": [
    {
     "name": "stdout",
     "output_type": "stream",
     "text": [
      "2.0\n"
     ]
    }
   ],
   "source": [
    "def mean(l):\n",
    "    if isinstance(l, dict):\n",
    "        mn = sum(l.values())/ len(l)\n",
    "        return mn\n",
    "    else:\n",
    "        mn = sum(l)/ len(l)\n",
    "        return mn\n",
    "\n",
    "s_grades = mean({\"a\" : 1, \"b\" : 2, \"c\" : 3})\n",
    "print(s_grades)"
   ]
  },
  {
   "cell_type": "code",
   "execution_count": 28,
   "metadata": {},
   "outputs": [
    {
     "data": {
      "text/plain": [
       "False"
      ]
     },
     "execution_count": 28,
     "metadata": {},
     "output_type": "execute_result"
    }
   ],
   "source": [
    "def name(s):\n",
    "    if len(s)< 8:\n",
    "        return False\n",
    "    else: \n",
    "        return True\n",
    "name(\"PAL\")"
   ]
  },
  {
   "cell_type": "code",
   "execution_count": 30,
   "metadata": {},
   "outputs": [
    {
     "data": {
      "text/plain": [
       "'cold'"
      ]
     },
     "execution_count": 30,
     "metadata": {},
     "output_type": "execute_result"
    }
   ],
   "source": [
    "def temp(s):\n",
    "    if s >  7:\n",
    "        return \"warm\"\n",
    "    else: \n",
    "        return \"cold\"\n",
    "temp(2)"
   ]
  },
  {
   "cell_type": "code",
   "execution_count": 31,
   "metadata": {},
   "outputs": [
    {
     "data": {
      "text/plain": [
       "'Hot'"
      ]
     },
     "execution_count": 31,
     "metadata": {},
     "output_type": "execute_result"
    }
   ],
   "source": [
    "def temp(t):\n",
    "    if t > 25: return \"Hot\"\n",
    "    elif t >= 15 and t <= 25 : return \"warm\"\n",
    "    else: return \"cold\"\n",
    "    \n",
    "temp(87)"
   ]
  },
  {
   "cell_type": "code",
   "execution_count": 32,
   "metadata": {},
   "outputs": [
    {
     "name": "stdout",
     "output_type": "stream",
     "text": [
      "Welcome\n"
     ]
    }
   ],
   "source": [
    "message = \"Namaskaram ! \"\n",
    " \n",
    "if \"Namaskaram\" in message:\n",
    "    print(\"Welcome\")\n",
    "else:\n",
    "    print(\"Pranam\")"
   ]
  },
  {
   "cell_type": "code",
   "execution_count": 35,
   "metadata": {},
   "outputs": [
    {
     "name": "stdout",
     "output_type": "stream",
     "text": [
      "Enter temp: 21\n"
     ]
    },
    {
     "data": {
      "text/plain": [
       "'warm'"
      ]
     },
     "execution_count": 35,
     "metadata": {},
     "output_type": "execute_result"
    }
   ],
   "source": [
    "def temp(t):\n",
    "    if t > 25: return \"Hot\"\n",
    "    elif t >= 15 and t <= 25 : return \"warm\"\n",
    "    else: return \"cold\"\n",
    "    \n",
    "temp(float(input(\"Enter temp: \")))"
   ]
  },
  {
   "cell_type": "code",
   "execution_count": 45,
   "metadata": {},
   "outputs": [
    {
     "name": "stdout",
     "output_type": "stream",
     "text": [
      "Enter temp: 3\n"
     ]
    },
    {
     "data": {
      "text/plain": [
       "int"
      ]
     },
     "execution_count": 45,
     "metadata": {},
     "output_type": "execute_result"
    }
   ],
   "source": [
    "t= int(input(\"Enter temp: \"))\n",
    "type(t)"
   ]
  },
  {
   "cell_type": "code",
   "execution_count": 51,
   "metadata": {},
   "outputs": [
    {
     "name": "stdout",
     "output_type": "stream",
     "text": [
      "What's your name?P\n",
      "Your surname?W\n",
      "Namaskaram! P W\n"
     ]
    }
   ],
   "source": [
    "i = input(\"What's your name?\")\n",
    "l = input(\"Your surname?\")\n",
    "print(\"Namaskaram! {} {}\".format(i, l))"
   ]
  },
  {
   "cell_type": "code",
   "execution_count": 52,
   "metadata": {},
   "outputs": [
    {
     "name": "stdout",
     "output_type": "stream",
     "text": [
      "Hi Pallavi\n"
     ]
    }
   ],
   "source": [
    "def name(i):\n",
    "    p = print(\"Hi {}\".format(i))\n",
    "    return p\n",
    "    \n",
    "name(\"Pallavi\")\n",
    "    "
   ]
  },
  {
   "cell_type": "code",
   "execution_count": 53,
   "metadata": {},
   "outputs": [
    {
     "name": "stdout",
     "output_type": "stream",
     "text": [
      "Hi Pallavi\n"
     ]
    }
   ],
   "source": [
    "def name(i):\n",
    "    p = print(\"Hi {}\".format(i.title()))\n",
    "    return \n",
    "    \n",
    "name(\"pallavi\")\n",
    "    "
   ]
  },
  {
   "cell_type": "code",
   "execution_count": 55,
   "metadata": {},
   "outputs": [
    {
     "name": "stdout",
     "output_type": "stream",
     "text": [
      "Enter your experience in months: 32\n"
     ]
    },
    {
     "data": {
      "text/plain": [
       "2.6666666666666665"
      ]
     },
     "execution_count": 55,
     "metadata": {},
     "output_type": "execute_result"
    }
   ],
   "source": [
    "experience_months = input(\"Enter your experience in months: \")\n",
    "experience_years = int(experience_months) / 12\n",
    "experience_years "
   ]
  },
  {
   "cell_type": "code",
   "execution_count": 56,
   "metadata": {},
   "outputs": [
    {
     "name": "stdout",
     "output_type": "stream",
     "text": [
      "282.25\n",
      "281.95\n",
      "3.0\n"
     ]
    }
   ],
   "source": [
    "def celsius_to_kelvin(cels):\n",
    "    return cels + 273.15\n",
    "\n",
    "monday_temperatures = [9.1, 8.8, -270.15]\n",
    " \n",
    "for temperature in monday_temperatures:\n",
    "    print(celsius_to_kelvin(temperature))"
   ]
  },
  {
   "cell_type": "code",
   "execution_count": 58,
   "metadata": {},
   "outputs": [
    {
     "name": "stdout",
     "output_type": "stream",
     "text": [
      "123\n",
      "234\n"
     ]
    }
   ],
   "source": [
    "d = { \"a\" : 123, \"b\" : 234 }\n",
    "for i in d.values():\n",
    "    print(i)"
   ]
  },
  {
   "cell_type": "code",
   "execution_count": 70,
   "metadata": {},
   "outputs": [
    {
     "name": "stdout",
     "output_type": "stream",
     "text": [
      "('John Smith', '+37682929928')\n",
      "('Marry Simpons', '+423998200919')\n"
     ]
    }
   ],
   "source": [
    "phone_numbers = {\"John Smith\": \"+37682929928\", \"Marry Simpons\": \"+423998200919\"}\n",
    " \n",
    "for p in phone_numbers.items():\n",
    "    print(p)\n",
    "    "
   ]
  },
  {
   "cell_type": "code",
   "execution_count": 71,
   "metadata": {},
   "outputs": [
    {
     "name": "stdout",
     "output_type": "stream",
     "text": [
      "John Smith has as phone number +37682929928\n",
      "Marry Simpons has as phone number +423998200919\n"
     ]
    }
   ],
   "source": [
    "phone_numbers = {\"John Smith\": \"+37682929928\", \"Marry Simpons\": \"+423998200919\"}\n",
    " \n",
    "for key, value in phone_numbers.items():\n",
    "    print(\"{} has as phone number {}\".format( key, value))\n"
   ]
  },
  {
   "cell_type": "code",
   "execution_count": 72,
   "metadata": {},
   "outputs": [
    {
     "name": "stdout",
     "output_type": "stream",
     "text": [
      "John Smith: +37682929928\n",
      "Marry Simpons: +423998200919\n"
     ]
    }
   ],
   "source": [
    "phone_numbers = {\"John Smith\": \"+37682929928\", \"Marry Simpons\": \"+423998200919\"}\n",
    "for i, k in phone_numbers.items():\n",
    "    print(\"{}: {}\".format(i,k))\n",
    "    "
   ]
  },
  {
   "cell_type": "code",
   "execution_count": 73,
   "metadata": {},
   "outputs": [
    {
     "name": "stdout",
     "output_type": "stream",
     "text": [
      "0037682929928\n",
      "00423998200919\n"
     ]
    }
   ],
   "source": [
    "phone_numbers = {\"John Smith\": \"+37682929928\", \"Marry Simpons\": \"+423998200919\"}\n",
    "\n",
    "for value in phone_numbers.values():\n",
    "    print(value.replace(\"+\", \"00\"))"
   ]
  },
  {
   "cell_type": "code",
   "execution_count": null,
   "metadata": {},
   "outputs": [],
   "source": [
    "d = {\"ad\" : 123, \"bc\" : 234}\n",
    "for i in d.values():\n",
    "    p= str(i)\n",
    "    print(p.replace(\"2\", \"*\"))\n",
    "print(type(i), type(p))\n"
   ]
  },
  {
   "cell_type": "code",
   "execution_count": null,
   "metadata": {},
   "outputs": [],
   "source": [
    "p = 2\n",
    "t = str(p)\n",
    "print(p, t, type(t))\n"
   ]
  }
 ],
 "metadata": {
  "kernelspec": {
   "display_name": "Python 3",
   "language": "python",
   "name": "python3"
  },
  "language_info": {
   "codemirror_mode": {
    "name": "ipython",
    "version": 3
   },
   "file_extension": ".py",
   "mimetype": "text/x-python",
   "name": "python",
   "nbconvert_exporter": "python",
   "pygments_lexer": "ipython3",
   "version": "3.8.5"
  }
 },
 "nbformat": 4,
 "nbformat_minor": 4
}
