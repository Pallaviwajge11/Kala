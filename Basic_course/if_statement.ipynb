{
 "cells": [
  {
   "cell_type": "code",
   "execution_count": 32,
   "metadata": {},
   "outputs": [],
   "source": [
    "# --- -2 ----1 --- 0 --- 1 --- 2 ---"
   ]
  },
  {
   "cell_type": "code",
   "execution_count": 2,
   "metadata": {},
   "outputs": [],
   "source": [
    "import numpy as np\n",
    "from numpy.random import randn"
   ]
  },
  {
   "cell_type": "code",
   "execution_count": 29,
   "metadata": {},
   "outputs": [
    {
     "data": {
      "text/plain": [
       "1.0081177458685031"
      ]
     },
     "execution_count": 29,
     "metadata": {},
     "output_type": "execute_result"
    }
   ],
   "source": [
    "randn()"
   ]
  },
  {
   "cell_type": "code",
   "execution_count": 30,
   "metadata": {},
   "outputs": [
    {
     "name": "stdout",
     "output_type": "stream",
     "text": [
      "What's your name?\n",
      "Pallavi\n"
     ]
    }
   ],
   "source": [
    "print(\"What's your name?\")\n",
    "x= input()"
   ]
  },
  {
   "cell_type": "code",
   "execution_count": 99,
   "metadata": {},
   "outputs": [
    {
     "name": "stdout",
     "output_type": "stream",
     "text": [
      "-0.007273119500716567\n",
      "None\n"
     ]
    }
   ],
   "source": [
    "# --- -2 ----1 --- 0 --- 1 --- 2 ---\n",
    "answer = None\n",
    "x= randn()\n",
    "if x > 1 :\n",
    "    answer = \"Greater than 1\"\n",
    "print(x)\n",
    "print(answer)"
   ]
  },
  {
   "cell_type": "code",
   "execution_count": 102,
   "metadata": {},
   "outputs": [
    {
     "name": "stdout",
     "output_type": "stream",
     "text": [
      "-1.4871165149977532\n",
      "Less than 1\n"
     ]
    }
   ],
   "source": [
    "# --- -2 --- -1 --- 0 --- 1 --- 2 ---\n",
    "answer = None\n",
    "x= randn()\n",
    "if x > 1 :\n",
    "    answer = \"Greater than 1\"\n",
    "else: \n",
    "    answer = \"Less than 1\"\n",
    "print(x)\n",
    "print(answer)"
   ]
  },
  {
   "cell_type": "code",
   "execution_count": 146,
   "metadata": {},
   "outputs": [
    {
     "name": "stdout",
     "output_type": "stream",
     "text": [
      "0.6124081408467732\n",
      "Between -1 and 1\n"
     ]
    }
   ],
   "source": [
    "# --- -2 --- -1 --- 0 --- 1 --- 2 ---\n",
    "# Nested statements\n",
    "answer = None\n",
    "x= randn()\n",
    "if x > 1 :\n",
    "    answer = \"Greater than 1\"\n",
    "else: \n",
    "    if x > -1 :\n",
    "        answer = \"Between -1 and 1\"\n",
    "    else:\n",
    "        answer = \"Greater than 1\"        \n",
    "    \n",
    "print(x)\n",
    "print(answer)"
   ]
  },
  {
   "cell_type": "code",
   "execution_count": 164,
   "metadata": {},
   "outputs": [
    {
     "name": "stdout",
     "output_type": "stream",
     "text": [
      "-0.19519405388690367\n",
      "Between -1 and 1\n"
     ]
    }
   ],
   "source": [
    "# --- -2 --- -1 --- 0 --- 1 --- 2 ---\n",
    "# Chained statements\n",
    "answer = None\n",
    "x= randn()\n",
    "if x > 1 :\n",
    "    answer = \"Greater than 1\"\n",
    "elif x > -1 :\n",
    "    answer = \"Between -1 and 1\"\n",
    "else:\n",
    "    answer = \"Greater than 1\"        \n",
    "    \n",
    "print(x)\n",
    "print(answer)"
   ]
  },
  {
   "cell_type": "code",
   "execution_count": 87,
   "metadata": {},
   "outputs": [
    {
     "name": "stdout",
     "output_type": "stream",
     "text": [
      "n = 100000\n",
      "count for -1 < x < 1 = 68316 \n",
      "mean = 68.316 %\n",
      "mean nearing 68.2 %\n"
     ]
    }
   ],
   "source": [
    "import numpy \n",
    "from numpy.random import randn\n",
    "\n",
    "n = 100000\n",
    "mean = 0\n",
    "c = 0 # c = count for -1 < x < 1\n",
    "x= randn(n)\n",
    "\n",
    "\n",
    "for i in x:\n",
    "    if i > -1 and i < 1:\n",
    "        c += 1\n",
    "        \n",
    "print(\"n = {}\".format(n))\n",
    "print(\"count for -1 < x < 1 = {} \".format(c))\n",
    "mean = (c/n)*100\n",
    "print(\"mean = {} %\".format(mean))\n",
    "\n",
    "if mean > 64.2 and mean < 72.2:\n",
    "    print(\"mean nearing 68.2 %\")\n"
   ]
  },
  {
   "cell_type": "code",
   "execution_count": null,
   "metadata": {},
   "outputs": [],
   "source": []
  }
 ],
 "metadata": {
  "kernelspec": {
   "display_name": "Python 3",
   "language": "python",
   "name": "python3"
  },
  "language_info": {
   "codemirror_mode": {
    "name": "ipython",
    "version": 3
   },
   "file_extension": ".py",
   "mimetype": "text/x-python",
   "name": "python",
   "nbconvert_exporter": "python",
   "pygments_lexer": "ipython3",
   "version": "3.8.5"
  }
 },
 "nbformat": 4,
 "nbformat_minor": 4
}
